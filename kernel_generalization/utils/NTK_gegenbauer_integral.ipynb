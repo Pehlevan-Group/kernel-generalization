{
 "cells": [
  {
   "cell_type": "code",
   "execution_count": 1,
   "metadata": {},
   "outputs": [
    {
     "name": "stdout",
     "output_type": "stream",
     "text": [
      "31\n"
     ]
    }
   ],
   "source": [
    "import os\n",
    "num_cores = os.cpu_count()-1\n",
    "print(num_cores)"
   ]
  },
  {
   "cell_type": "code",
   "execution_count": 2,
   "metadata": {},
   "outputs": [],
   "source": [
    "import numpy as np\n",
    "import matplotlib.pyplot as plt\n",
    "\n",
    "!pip install -q git+https://github.com/Pehlevan-Group/kernel-generalization\n",
    "from kernel_generalization.utils import ntklib"
   ]
  },
  {
   "cell_type": "markdown",
   "metadata": {},
   "source": [
    "## Gegenbauer Spectrum computed with Python"
   ]
  },
  {
   "cell_type": "code",
   "execution_count": 3,
   "metadata": {},
   "outputs": [
    {
     "name": "stdout",
     "output_type": "stream",
     "text": [
      "dim 5\n",
      "Elapsed time: 0h 0m 23s\n",
      "dim 10\n",
      "Elapsed time: 0h 0m 23s\n",
      "dim 15\n",
      "Elapsed time: 0h 0m 22s\n",
      "dim 20\n",
      "Elapsed time: 0h 0m 23s\n",
      "dim 25\n",
      "Elapsed time: 0h 0m 22s\n"
     ]
    }
   ],
   "source": [
    "dim = np.array([5*(i+1) for i in range(5)])\n",
    "deg = np.array([i for i in range(10)]); \n",
    "layer = np.array([1, 2]);\n",
    "\n",
    "eig, eig_real = ntklib.compute_ntk_spectrum(dim, deg, layer, num_cores)\n",
    "\n",
    "np.savez('GegenbauerEigenvalues.npz', eig=eig, eig_real=eig_real)"
   ]
  },
  {
   "cell_type": "code",
   "execution_count": 4,
   "metadata": {},
   "outputs": [],
   "source": [
    "# eig = np.load('GegenbauerEigenvalues.npz', allow_pickle=True)['eig']\n",
    "# eig_real= np.load('GegenbauerEigenvalues.npz', allow_pickle=True)['eig_real']"
   ]
  },
  {
   "cell_type": "code",
   "execution_count": null,
   "metadata": {},
   "outputs": [],
   "source": []
  }
 ],
 "metadata": {
  "kernelspec": {
   "display_name": "Python 3",
   "language": "python",
   "name": "python3"
  },
  "language_info": {
   "codemirror_mode": {
    "name": "ipython",
    "version": 3
   },
   "file_extension": ".py",
   "mimetype": "text/x-python",
   "name": "python",
   "nbconvert_exporter": "python",
   "pygments_lexer": "ipython3",
   "version": "3.8.5"
  }
 },
 "nbformat": 4,
 "nbformat_minor": 4
}
